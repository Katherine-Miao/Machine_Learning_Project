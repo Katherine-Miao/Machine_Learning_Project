{
 "cells": [
  {
   "cell_type": "code",
   "execution_count": 2,
   "id": "c86eda88",
   "metadata": {},
   "outputs": [
    {
     "name": "stdout",
     "output_type": "stream",
     "text": [
      "['.git', '.ipynb_checkpoints', 'BData_2_image.m', 'ImageNet_Network_training.ipynb', 'Images']\n"
     ]
    }
   ],
   "source": [
    "import numpy as np\n",
    "import pandas as pd\n",
    "import os\n",
    "import cv2 as cv\n",
    "import matplotlib.pyplot as plt\n",
    "from keras.applications import vgg16\n",
    "from keras.models import Model,load_model\n",
    "import keras\n",
    "from keras.layers import Input, Conv2D, Conv2DTranspose, AveragePooling2D, MaxPooling2D, UpSampling2D, LeakyReLU, concatenate, Dropout, BatchNormalization, Activation\n",
    "from keras.callbacks import EarlyStopping, ModelCheckpoint\n",
    "import pandas as pd\n",
    "from keras.optimizers import Adam\n",
    "from sklearn.model_selection import train_test_split\n",
    "from numpy.random import seed\n",
    "seed(123)\n",
    "import tensorflow as tf\n",
    "tf.random.set_seed(123)\n",
    "from keras import backend as K\n",
    "session_conf = tf.compat.v1.ConfigProto(intra_op_parallelism_threads =1, inter_op_parallelism_threads =1)\n",
    "sess = tf.compat.v1.Session(graph= tf.compat.v1.get_default_graph(), config = session_conf)\n",
    "print(os.listdir(r\"C:\\Users\\jtole\\Documents\\Machine_Learning_Project\"))\n",
    "InputPath = \"../input/artificial-lunar-rocky-landscape-dataset/images/\"\n",
    "# Any results you write to the current directory are saved as output."
   ]
  },
  {
   "cell_type": "code",
   "execution_count": null,
   "id": "b94a1301",
   "metadata": {},
   "outputs": [],
   "source": []
  },
  {
   "cell_type": "code",
   "execution_count": null,
   "id": "c7c84cda",
   "metadata": {},
   "outputs": [],
   "source": []
  }
 ],
 "metadata": {
  "kernelspec": {
   "display_name": "Python 3 (ipykernel)",
   "language": "python",
   "name": "python3"
  },
  "language_info": {
   "codemirror_mode": {
    "name": "ipython",
    "version": 3
   },
   "file_extension": ".py",
   "mimetype": "text/x-python",
   "name": "python",
   "nbconvert_exporter": "python",
   "pygments_lexer": "ipython3",
   "version": "3.9.7"
  }
 },
 "nbformat": 4,
 "nbformat_minor": 5
}
